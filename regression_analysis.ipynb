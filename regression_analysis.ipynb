{
 "cells": [
  {
   "cell_type": "markdown",
   "id": "93e22612",
   "metadata": {},
   "source": [
    "# Regression Analysis\n",
    "\n",
    "In this I'll be documenting what I do, and how I do it with regard to data wrangling.\n"
   ]
  }
 ],
 "metadata": {
  "kernelspec": {
   "display_name": "Python 3 (ipykernel)",
   "language": "python",
   "name": "python3"
  },
  "language_info": {
   "codemirror_mode": {
    "name": "ipython",
    "version": 3
   },
   "file_extension": ".py",
   "mimetype": "text/x-python",
   "name": "python",
   "nbconvert_exporter": "python",
   "pygments_lexer": "ipython3",
   "version": "3.12.3"
  }
 },
 "nbformat": 4,
 "nbformat_minor": 5
}
