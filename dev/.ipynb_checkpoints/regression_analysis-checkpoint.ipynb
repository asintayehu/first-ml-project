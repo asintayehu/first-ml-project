{
 "cells": [
  {
   "cell_type": "code",
   "execution_count": 2,
   "id": "76d8b8a0",
   "metadata": {},
   "outputs": [],
   "source": [
    "import pandas as pd"
   ]
  },
  {
   "cell_type": "markdown",
   "id": "93e22612",
   "metadata": {},
   "source": [
    "# Regression Analysis\n",
    "\n",
    "In this I'll be documenting what I do, and how I do it with regard to data wrangling.\n",
    "\n",
    "\n",
    "# Initial Issues Observed with Data\n",
    "    * For a given section, eg, Coronary Heart Disease, there's an extra row above each \"break\" which displays the totals for that outcome or indicator. While useful, these will present unncessary roadbloacks on the path to performing linear regression.\n",
    "    * Encoding the patient demographic: For any outcome or indicator, such as Asthma, COPD, or different types of cancers, a given patients status in relation to some kind of grouping (e.g, Large/Small/Medium Metropolitan Statistical Area, High/Low/Medium Social Vulnerability, etc.) is slightly concerning, as I'm worried that if after cleaning the data, we'll be left with too few data points to make any useful conclusions.\n",
    "    * Will update as I continue to read and analyze data, and narrow the data to form a cogent hypothesis"
   ]
  },
  {
   "cell_type": "code",
   "execution_count": 9,
   "id": "ce995503",
   "metadata": {},
   "outputs": [
    {
     "name": "stdout",
     "output_type": "stream",
     "text": [
      "   Outcome (or Indicator)    Grouping category        Group  Percentage  \\\n",
      "0  Coronary heart disease                Total        Total         4.6   \n",
      "1  Coronary heart disease                  Sex         Male         5.9   \n",
      "2  Coronary heart disease                  Sex       Female         3.4   \n",
      "3  Coronary heart disease  Age groups with 65+  18-34 years         0.3   \n",
      "4  Coronary heart disease  Age groups with 65+  35-49 years         0.9   \n",
      "\n",
      "  Confidence Interval                                              Title  \\\n",
      "0            4.3, 4.9  Percentage of coronary heart disease for adult...   \n",
      "1            5.5, 6.3  Percentage of coronary heart disease for adult...   \n",
      "2            3.1, 3.7  Percentage of coronary heart disease for adult...   \n",
      "3            0.2, 0.5  Percentage of coronary heart disease for adult...   \n",
      "4            0.6, 1.2  Percentage of coronary heart disease for adult...   \n",
      "\n",
      "                                         Description  Year  \n",
      "0  Respondents were asked if they had ever been t...  2019  \n",
      "1  Respondents were asked if they had ever been t...  2019  \n",
      "2  Respondents were asked if they had ever been t...  2019  \n",
      "3  Respondents were asked if they had ever been t...  2019  \n",
      "4  Respondents were asked if they had ever been t...  2019  \n"
     ]
    }
   ],
   "source": [
    "# importing file\n",
    "file_path = \"NHIS_Adult_Summary_Health_Statistics.csv\"\n",
    "df = pd.read_csv(file_path)\n",
    "print(df.head())"
   ]
  },
  {
   "cell_type": "markdown",
   "id": "37ec1941",
   "metadata": {},
   "source": [
    "After importing the data, we can conduct research to see what the most likely contributors to our \"y\" would be"
   ]
  },
  {
   "cell_type": "markdown",
   "id": "21b58221",
   "metadata": {},
   "source": [
    "# Big Idea\n",
    "- Despite this being a first project, we do not want to conduct meaningless data analysis. We want to maximise the amount of data we can process, and work with the most context we have to extract the most meaningful correlations. To do this, we will find the output with the highest frequency using term frequency inverse document frequency.\n",
    "\n",
    "- To do this, we will first extract everything from the \"description\" column in order to work with it."
   ]
  },
  {
   "cell_type": "code",
   "execution_count": 25,
   "id": "82ba9e0b",
   "metadata": {},
   "outputs": [
    {
     "name": "stdout",
     "output_type": "stream",
     "text": [
      "<class 'pandas.core.series.Series'>\n"
     ]
    }
   ],
   "source": [
    "description = df['Description'].astype(str)\n",
    "print(type(description))"
   ]
  }
 ],
 "metadata": {
  "kernelspec": {
   "display_name": "Python 3 (ipykernel)",
   "language": "python",
   "name": "python3"
  },
  "language_info": {
   "codemirror_mode": {
    "name": "ipython",
    "version": 3
   },
   "file_extension": ".py",
   "mimetype": "text/x-python",
   "name": "python",
   "nbconvert_exporter": "python",
   "pygments_lexer": "ipython3",
   "version": "3.12.3"
  }
 },
 "nbformat": 4,
 "nbformat_minor": 5
}
