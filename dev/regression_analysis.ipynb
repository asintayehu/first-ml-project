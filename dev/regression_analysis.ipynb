{
 "cells": [
  {
   "cell_type": "code",
   "execution_count": null,
   "id": "c20b0986",
   "metadata": {},
   "outputs": [],
   "source": []
  },
  {
   "cell_type": "markdown",
   "id": "93e22612",
   "metadata": {},
   "source": [
    "# Regression Analysis\n",
    "\n",
    "In this I'll be documenting what I do, and how I do it with regard to data wrangling.\n",
    "\n",
    "\n",
    "# Initial Issues Observed with Data\n",
    "    * For a given section, eg, Coronary Heart Disease, there's an extra row above each \"break\" which displays the totals for that outcome or indicator. While useful, these will present unncessary roadbloacks on the path to performing linear regression.\n",
    "    * Encoding the patient demographic: For any outcome or indicator, such as Asthma, COPD, or different types of cancers, a given patients status in relation to some kind of grouping (e.g, Large/Small/Medium Metropolitan Statistical Area, High/Low/Medium Social Vulnerability, etc.) is slightly concerning, as I'm worried that if after cleaning the data, we'll be left with too few data points to make any useful conclusions.\n",
    "    * Will update as I continue to read and analyze data, and narrow the data to form a cogent hypothesis"
   ]
  },
  {
   "cell_type": "code",
   "execution_count": null,
   "id": "dde113a4",
   "metadata": {},
   "outputs": [],
   "source": [
    "# importing file\n",
    "file_path = \"/home/aaron/Downloads/NHIS_Adult_Sumbmary_Health_Statistics.csv\"\n",
    "df = pd.read_csv(file_path)"
   ]
  },
  {
   "cell_type": "markdown",
   "id": "8a2ecb23",
   "metadata": {},
   "source": [
    "After importing the data, we can conduct research to see what the most likely"
   ]
  }
 ],
 "metadata": {
  "kernelspec": {
   "display_name": "Python 3 (ipykernel)",
   "language": "python",
   "name": "python3"
  },
  "language_info": {
   "codemirror_mode": {
    "name": "ipython",
    "version": 3
   },
   "file_extension": ".py",
   "mimetype": "text/x-python",
   "name": "python",
   "nbconvert_exporter": "python",
   "pygments_lexer": "ipython3",
   "version": "3.12.3"
  }
 },
 "nbformat": 4,
 "nbformat_minor": 5
}
